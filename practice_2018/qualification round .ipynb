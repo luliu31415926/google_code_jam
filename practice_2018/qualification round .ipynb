{
 "cells": [
  {
   "cell_type": "code",
   "execution_count": 7,
   "metadata": {
    "collapsed": true
   },
   "outputs": [
    {
     "name": "stdout",
     "output_type": "stream",
     "text": [
      "4\n",
      "3\n",
      "1 1 2\n",
      "Case #1: CC AB\n",
      "\n",
      "3 \n",
      "2 3 1\n",
      "Case #2: BB AA BC\n",
      "\n"
     ]
    },
    {
     "ename": "KeyboardInterrupt",
     "evalue": "",
     "output_type": "error",
     "traceback": [
      "\u001b[0;31m---------------------------------------------------------------------------\u001b[0m",
      "\u001b[0;31mKeyboardInterrupt\u001b[0m                         Traceback (most recent call last)",
      "\u001b[0;32m/anaconda3/lib/python3.6/site-packages/ipykernel/kernelbase.py\u001b[0m in \u001b[0;36m_input_request\u001b[0;34m(self, prompt, ident, parent, password)\u001b[0m\n\u001b[1;32m    729\u001b[0m             \u001b[0;32mtry\u001b[0m\u001b[0;34m:\u001b[0m\u001b[0;34m\u001b[0m\u001b[0m\n\u001b[0;32m--> 730\u001b[0;31m                 \u001b[0mident\u001b[0m\u001b[0;34m,\u001b[0m \u001b[0mreply\u001b[0m \u001b[0;34m=\u001b[0m \u001b[0mself\u001b[0m\u001b[0;34m.\u001b[0m\u001b[0msession\u001b[0m\u001b[0;34m.\u001b[0m\u001b[0mrecv\u001b[0m\u001b[0;34m(\u001b[0m\u001b[0mself\u001b[0m\u001b[0;34m.\u001b[0m\u001b[0mstdin_socket\u001b[0m\u001b[0;34m,\u001b[0m \u001b[0;36m0\u001b[0m\u001b[0;34m)\u001b[0m\u001b[0;34m\u001b[0m\u001b[0m\n\u001b[0m\u001b[1;32m    731\u001b[0m             \u001b[0;32mexcept\u001b[0m \u001b[0mException\u001b[0m\u001b[0;34m:\u001b[0m\u001b[0;34m\u001b[0m\u001b[0m\n",
      "\u001b[0;32m/anaconda3/lib/python3.6/site-packages/jupyter_client/session.py\u001b[0m in \u001b[0;36mrecv\u001b[0;34m(self, socket, mode, content, copy)\u001b[0m\n\u001b[1;32m    795\u001b[0m         \u001b[0;32mtry\u001b[0m\u001b[0;34m:\u001b[0m\u001b[0;34m\u001b[0m\u001b[0m\n\u001b[0;32m--> 796\u001b[0;31m             \u001b[0mmsg_list\u001b[0m \u001b[0;34m=\u001b[0m \u001b[0msocket\u001b[0m\u001b[0;34m.\u001b[0m\u001b[0mrecv_multipart\u001b[0m\u001b[0;34m(\u001b[0m\u001b[0mmode\u001b[0m\u001b[0;34m,\u001b[0m \u001b[0mcopy\u001b[0m\u001b[0;34m=\u001b[0m\u001b[0mcopy\u001b[0m\u001b[0;34m)\u001b[0m\u001b[0;34m\u001b[0m\u001b[0m\n\u001b[0m\u001b[1;32m    797\u001b[0m         \u001b[0;32mexcept\u001b[0m \u001b[0mzmq\u001b[0m\u001b[0;34m.\u001b[0m\u001b[0mZMQError\u001b[0m \u001b[0;32mas\u001b[0m \u001b[0me\u001b[0m\u001b[0;34m:\u001b[0m\u001b[0;34m\u001b[0m\u001b[0m\n",
      "\u001b[0;32m/anaconda3/lib/python3.6/site-packages/zmq/sugar/socket.py\u001b[0m in \u001b[0;36mrecv_multipart\u001b[0;34m(self, flags, copy, track)\u001b[0m\n\u001b[1;32m    394\u001b[0m         \"\"\"\n\u001b[0;32m--> 395\u001b[0;31m         \u001b[0mparts\u001b[0m \u001b[0;34m=\u001b[0m \u001b[0;34m[\u001b[0m\u001b[0mself\u001b[0m\u001b[0;34m.\u001b[0m\u001b[0mrecv\u001b[0m\u001b[0;34m(\u001b[0m\u001b[0mflags\u001b[0m\u001b[0;34m,\u001b[0m \u001b[0mcopy\u001b[0m\u001b[0;34m=\u001b[0m\u001b[0mcopy\u001b[0m\u001b[0;34m,\u001b[0m \u001b[0mtrack\u001b[0m\u001b[0;34m=\u001b[0m\u001b[0mtrack\u001b[0m\u001b[0;34m)\u001b[0m\u001b[0;34m]\u001b[0m\u001b[0;34m\u001b[0m\u001b[0m\n\u001b[0m\u001b[1;32m    396\u001b[0m         \u001b[0;31m# have first part already, only loop while more to receive\u001b[0m\u001b[0;34m\u001b[0m\u001b[0;34m\u001b[0m\u001b[0m\n",
      "\u001b[0;32mzmq/backend/cython/socket.pyx\u001b[0m in \u001b[0;36mzmq.backend.cython.socket.Socket.recv (zmq/backend/cython/socket.c:7683)\u001b[0;34m()\u001b[0m\n",
      "\u001b[0;32mzmq/backend/cython/socket.pyx\u001b[0m in \u001b[0;36mzmq.backend.cython.socket.Socket.recv (zmq/backend/cython/socket.c:7460)\u001b[0;34m()\u001b[0m\n",
      "\u001b[0;32mzmq/backend/cython/socket.pyx\u001b[0m in \u001b[0;36mzmq.backend.cython.socket._recv_copy (zmq/backend/cython/socket.c:2344)\u001b[0;34m()\u001b[0m\n",
      "\u001b[0;32m/anaconda3/lib/python3.6/site-packages/zmq/backend/cython/checkrc.pxd\u001b[0m in \u001b[0;36mzmq.backend.cython.checkrc._check_rc (zmq/backend/cython/socket.c:9621)\u001b[0;34m()\u001b[0m\n",
      "\u001b[0;31mKeyboardInterrupt\u001b[0m: ",
      "\nDuring handling of the above exception, another exception occurred:\n",
      "\u001b[0;31mKeyboardInterrupt\u001b[0m                         Traceback (most recent call last)",
      "\u001b[0;32m<ipython-input-7-65778e27c879>\u001b[0m in \u001b[0;36m<module>\u001b[0;34m()\u001b[0m\n\u001b[1;32m      4\u001b[0m \u001b[0mt\u001b[0m\u001b[0;34m=\u001b[0m\u001b[0mint\u001b[0m\u001b[0;34m(\u001b[0m\u001b[0minput\u001b[0m\u001b[0;34m(\u001b[0m\u001b[0;34m)\u001b[0m\u001b[0;34m)\u001b[0m\u001b[0;34m\u001b[0m\u001b[0m\n\u001b[1;32m      5\u001b[0m \u001b[0;32mfor\u001b[0m \u001b[0mj\u001b[0m \u001b[0;32min\u001b[0m \u001b[0mrange\u001b[0m\u001b[0;34m(\u001b[0m\u001b[0;36m1\u001b[0m\u001b[0;34m,\u001b[0m\u001b[0mt\u001b[0m\u001b[0;34m+\u001b[0m\u001b[0;36m1\u001b[0m\u001b[0;34m)\u001b[0m\u001b[0;34m:\u001b[0m\u001b[0;34m\u001b[0m\u001b[0m\n\u001b[0;32m----> 6\u001b[0;31m     \u001b[0mN\u001b[0m\u001b[0;34m=\u001b[0m\u001b[0mint\u001b[0m\u001b[0;34m(\u001b[0m\u001b[0minput\u001b[0m\u001b[0;34m(\u001b[0m\u001b[0;34m)\u001b[0m\u001b[0;34m)\u001b[0m\u001b[0;34m\u001b[0m\u001b[0m\n\u001b[0m\u001b[1;32m      7\u001b[0m     \u001b[0mparties\u001b[0m\u001b[0;34m=\u001b[0m\u001b[0;34m[\u001b[0m\u001b[0mint\u001b[0m\u001b[0;34m(\u001b[0m\u001b[0ms\u001b[0m\u001b[0;34m)\u001b[0m \u001b[0;32mfor\u001b[0m \u001b[0ms\u001b[0m \u001b[0;32min\u001b[0m \u001b[0minput\u001b[0m\u001b[0;34m(\u001b[0m\u001b[0;34m)\u001b[0m\u001b[0;34m.\u001b[0m\u001b[0msplit\u001b[0m\u001b[0;34m(\u001b[0m\u001b[0;34m)\u001b[0m\u001b[0;34m]\u001b[0m\u001b[0;34m\u001b[0m\u001b[0m\n\u001b[1;32m      8\u001b[0m     \u001b[0mpopulation\u001b[0m\u001b[0;34m=\u001b[0m\u001b[0msum\u001b[0m\u001b[0;34m(\u001b[0m\u001b[0mparties\u001b[0m\u001b[0;34m)\u001b[0m\u001b[0;34m\u001b[0m\u001b[0m\n",
      "\u001b[0;32m/anaconda3/lib/python3.6/site-packages/ipykernel/kernelbase.py\u001b[0m in \u001b[0;36mraw_input\u001b[0;34m(self, prompt)\u001b[0m\n\u001b[1;32m    703\u001b[0m             \u001b[0mself\u001b[0m\u001b[0;34m.\u001b[0m\u001b[0m_parent_ident\u001b[0m\u001b[0;34m,\u001b[0m\u001b[0;34m\u001b[0m\u001b[0m\n\u001b[1;32m    704\u001b[0m             \u001b[0mself\u001b[0m\u001b[0;34m.\u001b[0m\u001b[0m_parent_header\u001b[0m\u001b[0;34m,\u001b[0m\u001b[0;34m\u001b[0m\u001b[0m\n\u001b[0;32m--> 705\u001b[0;31m             \u001b[0mpassword\u001b[0m\u001b[0;34m=\u001b[0m\u001b[0;32mFalse\u001b[0m\u001b[0;34m,\u001b[0m\u001b[0;34m\u001b[0m\u001b[0m\n\u001b[0m\u001b[1;32m    706\u001b[0m         )\n\u001b[1;32m    707\u001b[0m \u001b[0;34m\u001b[0m\u001b[0m\n",
      "\u001b[0;32m/anaconda3/lib/python3.6/site-packages/ipykernel/kernelbase.py\u001b[0m in \u001b[0;36m_input_request\u001b[0;34m(self, prompt, ident, parent, password)\u001b[0m\n\u001b[1;32m    733\u001b[0m             \u001b[0;32mexcept\u001b[0m \u001b[0mKeyboardInterrupt\u001b[0m\u001b[0;34m:\u001b[0m\u001b[0;34m\u001b[0m\u001b[0m\n\u001b[1;32m    734\u001b[0m                 \u001b[0;31m# re-raise KeyboardInterrupt, to truncate traceback\u001b[0m\u001b[0;34m\u001b[0m\u001b[0;34m\u001b[0m\u001b[0m\n\u001b[0;32m--> 735\u001b[0;31m                 \u001b[0;32mraise\u001b[0m \u001b[0mKeyboardInterrupt\u001b[0m\u001b[0;34m\u001b[0m\u001b[0m\n\u001b[0m\u001b[1;32m    736\u001b[0m             \u001b[0;32melse\u001b[0m\u001b[0;34m:\u001b[0m\u001b[0;34m\u001b[0m\u001b[0m\n\u001b[1;32m    737\u001b[0m                 \u001b[0;32mbreak\u001b[0m\u001b[0;34m\u001b[0m\u001b[0m\n",
      "\u001b[0;31mKeyboardInterrupt\u001b[0m: "
     ]
    }
   ],
   "source": [
    "#evacuation of senator\n",
    "import heapq\n",
    "\n",
    "\n",
    "t=int(input())\n",
    "for j in range(1,t+1):\n",
    "    N=int(input())\n",
    "    parties=[int(s) for s in input().split()]\n",
    "    population=sum(parties)\n",
    "    heap=[]\n",
    "    ret=[]\n",
    "\n",
    "    for i,p in enumerate(parties):\n",
    "        heapq.heappush(heap,(-p,alpha[i]))\n",
    "    while population>0 and  population!=3:\n",
    "        top1,p1=heapq.heappop(heap)\n",
    "        top2,p2=heapq.heappop(heap)\n",
    "        top1,top2=-top1,-top2\n",
    "        if top1>1 and top2<=(population-2)/2:\n",
    "            ret.append(p1+p1)\n",
    "            heapq.heappush(heap,(-top2,p2))\n",
    "            if top1>2:\n",
    "                heapq.heappush(heap,(-(top1-2),p1))\n",
    "        else:\n",
    "            ret.append(p1+p2)\n",
    "            if top1>1:\n",
    "                heapq.heappush(heap,(-top1+1,p1))\n",
    "            if top2>1:\n",
    "                heapq.heappush(heap,(-top2+1,p2))\n",
    "        population-=2 \n",
    "    if population==3:\n",
    "        # must be 1,1,1\n",
    "        _,p1=heapq.heappop(heap)\n",
    "        _,p2=heapq.heappop(heap)\n",
    "        _,p3=heapq.heappop(heap)\n",
    "        ret+=[p1,p2+p3]\n",
    "    print ('Case #%i: %s\\n'%(j,' '.join(ret)))\n",
    "        "
   ]
  },
  {
   "cell_type": "code",
   "execution_count": 12,
   "metadata": {
    "collapsed": true
   },
   "outputs": [],
   "source": [
    "import heapq\n",
    "listForTree = [1,2,3,4,5,6,7,8,9,10,11,12,13,14,15]    \n",
    "heapq.heapify(listForTree)             # for a min heap\n",
    "heapq._heapify_max(listForTree)"
   ]
  },
  {
   "cell_type": "code",
   "execution_count": 13,
   "metadata": {},
   "outputs": [
    {
     "data": {
      "text/plain": [
       "15"
      ]
     },
     "execution_count": 13,
     "metadata": {},
     "output_type": "execute_result"
    }
   ],
   "source": [
    "heapq._heappop_max(listForTree)"
   ]
  },
  {
   "cell_type": "code",
   "execution_count": 4,
   "metadata": {
    "scrolled": true
   },
   "outputs": [
    {
     "name": "stdout",
     "output_type": "stream",
     "text": [
      "6\n",
      "1 CS\n",
      "Case #1: 1\n",
      "\n",
      "2 CS\n",
      "Case #2: 0\n",
      "\n",
      "1 SS\n",
      "Case #3: IMPOSSIBLE\n",
      "\n",
      "6 SCCSSC\n",
      "Case #4: 2\n",
      "\n",
      "2 CC\n",
      "Case #5: 0\n",
      "\n",
      "3 CSCSS\n",
      "Case #6: 5\n",
      "\n"
     ]
    }
   ],
   "source": [
    "import heapq\n",
    "#SAVING THE UNIVERSE\n",
    "t=int(input())\n",
    "for i in range(1,t+1):\n",
    "    D,command=input().split()\n",
    "    D=int(D)\n",
    "    num_S=command.count('S')\n",
    "    if num_S>D: \n",
    "        print ('Case #%i: %s\\n'%(i,'IMPOSSIBLE'))\n",
    "        continue \n",
    "    heap=[]\n",
    "    cur=1\n",
    "    for c in command:\n",
    "        if c=='S':\n",
    "            heapq.heappush(heap,-cur)\n",
    "        if c=='C':\n",
    "            cur=cur<<1\n",
    "    ret=0\n",
    "    s=-sum(heap)\n",
    "    while s>D:\n",
    "        worst=heapq.heappop(heap)\n",
    "        worst=-(-worst)>>1\n",
    "        heapq.heappush(heap,worst)\n",
    "        ret+=1 \n",
    "        s+=worst \n",
    "    print ('Case #%i: %i\\n'%(i,ret))"
   ]
  },
  {
   "cell_type": "code",
   "execution_count": 15,
   "metadata": {},
   "outputs": [
    {
     "data": {
      "text/plain": [
       "[[0, 0, 0], [0, 0, 0], [0, 0, 0], [0, 0, 0], [0, 0, 0], [0, 0, 0]]"
      ]
     },
     "execution_count": 15,
     "metadata": {},
     "output_type": "execute_result"
    }
   ],
   "source": [
    "import math\n",
    "A=17\n",
    "[[0,0,0] for _ in range(math.ceil(A/3)) ]"
   ]
  },
  {
   "cell_type": "code",
   "execution_count": 16,
   "metadata": {},
   "outputs": [
    {
     "data": {
      "text/plain": [
       "0.7071067811865476"
      ]
     },
     "execution_count": 16,
     "metadata": {},
     "output_type": "execute_result"
    }
   ],
   "source": [
    "(0.5**2*2)**0.5"
   ]
  },
  {
   "cell_type": "code",
   "execution_count": 37,
   "metadata": {
    "scrolled": true
   },
   "outputs": [
    {
     "name": "stdout",
     "output_type": "stream",
     "text": [
      "2 \n",
      "5\n",
      "5 6 8 4 3\n",
      "Case #1: OK\n",
      "\n",
      "3\n",
      "8 9 7\n",
      "Case #2: 1\n",
      "\n"
     ]
    }
   ],
   "source": [
    "# trouble sort \n",
    "t=int(input())\n",
    "for i in range(1,t+1):\n",
    "    N=int(input())\n",
    "    nums=list(map(int,input().split()))\n",
    "    even=sorted([nums[i] for i in range(0,N,2)])\n",
    "    odd=sorted([nums[i] for i in range(1,N,2)])\n",
    "    ret=-1\n",
    "    if odd[0]<even[0]: \n",
    "        ret=0 \n",
    "    else:\n",
    "        for i in range(1,N//2):\n",
    "            if even[i]<odd[i-1]: \n",
    "                ret=i*2-1 \n",
    "                break\n",
    "            elif odd[i]<even[i]:\n",
    "                ret=i*2\n",
    "                break\n",
    "    if ret==-1 and N%2==1 and even[-1]<odd[-1]:\n",
    "        ret=N-2 \n",
    "    if ret==-1: print ('Case #%i: %s\\n'%(i,'OK'))\n",
    "    else: print ('Case #%i: %i\\n'%(i,ret))"
   ]
  },
  {
   "cell_type": "code",
   "execution_count": 36,
   "metadata": {},
   "outputs": [
    {
     "data": {
      "text/plain": [
       "2"
      ]
     },
     "execution_count": 36,
     "metadata": {},
     "output_type": "execute_result"
    }
   ],
   "source": [
    "4//2"
   ]
  },
  {
   "cell_type": "code",
   "execution_count": 34,
   "metadata": {},
   "outputs": [
    {
     "name": "stdout",
     "output_type": "stream",
     "text": [
      "1\n",
      "1.6\n",
      "0.7853981633974483 0.1418970546041639\n",
      "Case #1:\n",
      "0.3535533905932738 -0.35355339059327373 0\n",
      "0.35355339059327373 0.35000000000000003 -0.05\n",
      "0 0.07071067811865475 0.4949747468305833\n"
     ]
    }
   ],
   "source": [
    "import math\n",
    "\n",
    "def rotate_z(angle,p):\n",
    "    x,y,z=p\n",
    "    xx = x * math.cos(angle) + y * math.sin(angle)\n",
    "    yy = -x * math.sin(angle) + y * math.cos(angle)\n",
    "    return [xx,yy,z]\n",
    "def rotate_x(angle,p):\n",
    "    x,y,z=p\n",
    "    yy = y * math.cos(angle) + z * math.sin(angle)\n",
    "    zz = -y * math.sin(angle) + z * math.cos(angle)\n",
    "    return [x,yy,zz]\n",
    "t=int(input())\n",
    "for i in range(1,t+1):\n",
    "    alpha, beta=0,0 \n",
    "    A=float(input())\n",
    "    if A<=2**0.5:\n",
    "        alpha=math.asin((A-(2-A**2)**0.5)/2)\n",
    "    else:\n",
    "        alpha=math.radians(45)\n",
    "        B=A/(2**0.5)\n",
    "        beta=math.asin((B-(2-B**2)**0.5)/2)\n",
    "    x,y,z=[0.5,0,0],[0,0.5,0],[0,0,0.5]\n",
    "    print (alpha, beta)\n",
    "    x=rotate_z(alpha,x)\n",
    "    y=rotate_z(alpha,y)\n",
    "    #print (x,y,z)\n",
    "    y=rotate_x(beta,y)\n",
    "    z=rotate_x(beta,z)\n",
    "    #print (x,y,z)\n",
    "    print ('Case #%i:'%(i))\n",
    "    for p in [x,y,z]:\n",
    "        print (' '.join(map(str,p)))"
   ]
  },
  {
   "cell_type": "code",
   "execution_count": 24,
   "metadata": {},
   "outputs": [
    {
     "name": "stdout",
     "output_type": "stream",
     "text": [
      "0.5 0 0\n"
     ]
    }
   ],
   "source": [
    "x,y,z=[0.5,0,0],[0,0.5,0],[0,0,0.5]\n",
    "print (' '.join(map(str,x)))"
   ]
  },
  {
   "cell_type": "code",
   "execution_count": 21,
   "metadata": {},
   "outputs": [
    {
     "data": {
      "text/plain": [
       "21.81505443392716"
      ]
     },
     "execution_count": 21,
     "metadata": {},
     "output_type": "execute_result"
    }
   ],
   "source": [
    "A=1.3\n",
    "math.degrees(math.asin((A-(2-A**2)**0.5)/2))"
   ]
  },
  {
   "cell_type": "code",
   "execution_count": 22,
   "metadata": {},
   "outputs": [
    {
     "name": "stdout",
     "output_type": "stream",
     "text": [
      "0 1.0\n",
      "2 1.0342903237215968\n",
      "4 1.0673205240039496\n",
      "6 1.0990503586359268\n",
      "8 1.1294411697016358\n",
      "10 1.1584559306791384\n",
      "12 1.186059291551565\n",
      "14 1.2122176218756642\n",
      "16 1.236899051755318\n",
      "18 1.2600735106701009\n",
      "20 1.281712764111577\n",
      "22 1.3017904479826994\n",
      "24 1.3202821007184011\n",
      "26 1.3371651930882444\n",
      "28 1.3524191556448177\n",
      "30 1.3660254037844386\n",
      "32 1.377967360389631\n",
      "34 1.3882304760257886\n",
      "36 1.3968022466674206\n",
      "38 1.4036722289323802\n",
      "40 1.4088320528055174\n",
      "42 1.4122754318362525\n",
      "44 1.4139981707976483\n"
     ]
    }
   ],
   "source": [
    "import math\n",
    "for angle in range(0,46,2):\n",
    "    a=math.radians(angle)\n",
    "    print (angle,math.sin(a)+math.cos(a))"
   ]
  },
  {
   "cell_type": "code",
   "execution_count": 6,
   "metadata": {},
   "outputs": [],
   "source": [
    "[3,2,3,45].sort()"
   ]
  },
  {
   "cell_type": "code",
   "execution_count": 11,
   "metadata": {},
   "outputs": [
    {
     "name": "stdout",
     "output_type": "stream",
     "text": [
      "5\n",
      "4 2\n",
      "x= 2\n",
      "left= 1\n",
      "mod= 1\n",
      "Case #1: 1 0\n",
      "\n",
      "5 2\n",
      "x= 2\n",
      "left= 1\n",
      "mod= 0\n",
      "Case #2: 1 0\n",
      "\n",
      "6 2\n",
      "x= 2\n",
      "left= 1\n",
      "mod= 1\n",
      "Case #3: 1 1\n",
      "\n",
      "1000 1000\n",
      "x= 10\n",
      "left= 489\n",
      "mod= 489\n",
      "Case #4: 0 0\n",
      "\n",
      "1000 1\n",
      "x= 1\n",
      "left= 1\n",
      "mod= 0\n",
      "Case #5: 500 499\n",
      "\n"
     ]
    }
   ],
   "source": [
    "# bathroom stall\n",
    "t=int(input())\n",
    "for i in range(1,t+1):\n",
    "    N,K=tuple(int(s) for s in input().split())\n",
    "    x=1\n",
    "    while 2**x-1<K:x+=1 \n",
    "    #print ('x=',x)\n",
    "    left=K-2**(x-1)+1\n",
    "    #print ('left=',left)\n",
    "    mod=(N-2**(x-1)+1)%(2**(x-1))\n",
    "    #print ('mod=',mod)\n",
    "    space=int((N-2**(x-1)+1)/(2**(x-1)))\n",
    "    if left<=mod:\n",
    "        space+=1\n",
    "    if space%2==1:\n",
    "        y,z=(space-1)/2,(space-1)/2\n",
    "    else:\n",
    "        y,z=space/2,space/2-1\n",
    "    print ('Case #%i: %i %i\\n'%(i,y,z))"
   ]
  },
  {
   "cell_type": "markdown",
   "metadata": {},
   "source": [
    "##### "
   ]
  }
 ],
 "metadata": {
  "kernelspec": {
   "display_name": "Python 3",
   "language": "python",
   "name": "python3"
  },
  "language_info": {
   "codemirror_mode": {
    "name": "ipython",
    "version": 3
   },
   "file_extension": ".py",
   "mimetype": "text/x-python",
   "name": "python",
   "nbconvert_exporter": "python",
   "pygments_lexer": "ipython3",
   "version": "3.6.3"
  }
 },
 "nbformat": 4,
 "nbformat_minor": 2
}
