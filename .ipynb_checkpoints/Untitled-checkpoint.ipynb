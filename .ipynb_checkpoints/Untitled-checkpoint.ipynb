{
 "cells": [
  {
   "cell_type": "code",
   "execution_count": 10,
   "metadata": {},
   "outputs": [
    {
     "name": "stdout",
     "output_type": "stream",
     "text": [
      "3 3\n",
      "70 80 90 \n",
      "1260 1500 700\n",
      "800 1440 1600\n",
      "1700 1620 900\n"
     ]
    },
    {
     "ename": "NameError",
     "evalue": "name 'solve' is not defined",
     "output_type": "error",
     "traceback": [
      "\u001b[0;31m---------------------------------------------------------------------------\u001b[0m",
      "\u001b[0;31mNameError\u001b[0m                                 Traceback (most recent call last)",
      "\u001b[0;32m<ipython-input-10-3b5ca8a6aa60>\u001b[0m in \u001b[0;36m<module>\u001b[0;34m()\u001b[0m\n\u001b[1;32m      4\u001b[0m \u001b[0;31m# Q[i][j]= quantity of ith ingredient's j'th package\u001b[0m\u001b[0;34m\u001b[0m\u001b[0;34m\u001b[0m\u001b[0m\n\u001b[1;32m      5\u001b[0m \u001b[0mQ\u001b[0m\u001b[0;34m=\u001b[0m\u001b[0;34m[\u001b[0m\u001b[0mlist\u001b[0m\u001b[0;34m(\u001b[0m\u001b[0mmap\u001b[0m\u001b[0;34m(\u001b[0m\u001b[0mint\u001b[0m\u001b[0;34m,\u001b[0m\u001b[0minput\u001b[0m\u001b[0;34m(\u001b[0m\u001b[0;34m)\u001b[0m\u001b[0;34m.\u001b[0m\u001b[0msplit\u001b[0m\u001b[0;34m(\u001b[0m\u001b[0;34m)\u001b[0m\u001b[0;34m)\u001b[0m\u001b[0;34m)\u001b[0m \u001b[0;32mfor\u001b[0m \u001b[0m_\u001b[0m \u001b[0;32min\u001b[0m \u001b[0mrange\u001b[0m\u001b[0;34m(\u001b[0m\u001b[0mP\u001b[0m\u001b[0;34m)\u001b[0m\u001b[0;34m]\u001b[0m\u001b[0;34m\u001b[0m\u001b[0m\n\u001b[0;32m----> 6\u001b[0;31m \u001b[0mprint\u001b[0m \u001b[0;34m(\u001b[0m\u001b[0msolve\u001b[0m\u001b[0;34m(\u001b[0m\u001b[0mN\u001b[0m\u001b[0;34m,\u001b[0m\u001b[0mP\u001b[0m\u001b[0;34m,\u001b[0m\u001b[0mR\u001b[0m\u001b[0;34m,\u001b[0m\u001b[0mQ\u001b[0m\u001b[0;34m)\u001b[0m\u001b[0;34m)\u001b[0m\u001b[0;34m\u001b[0m\u001b[0m\n\u001b[0m\u001b[1;32m      7\u001b[0m '''\n\u001b[1;32m      8\u001b[0m \u001b[0msort\u001b[0m \u001b[0meach\u001b[0m \u001b[0mintervals\u001b[0m \u001b[0mby\u001b[0m \u001b[0;34m(\u001b[0m\u001b[0ms\u001b[0m\u001b[0;34m,\u001b[0m\u001b[0me\u001b[0m\u001b[0;34m)\u001b[0m\u001b[0;34m\u001b[0m\u001b[0m\n",
      "\u001b[0;31mNameError\u001b[0m: name 'solve' is not defined"
     ]
    }
   ],
   "source": [
    "\n",
    "'''\n",
    "sort each intervals by (s,e)\n",
    "依次检查第一个interval\n",
    "如果某个interval 不能跟其他的match， 比他们都小\n",
    "那么之后的interval 更不可能跟它match, 可丢弃\n",
    "如果一组interval match 了以后， 假设影响了后面的一组match:\n",
    "后面的影响了的一组interval 至少有一个与其他都不想交（比它们都大或都小）\n",
    "如比其他的都小， 那么这个ingredient现在的interval更不可能与他们相交\n",
    "如比其他的都大， 那么其他的ingredient 现在的interval都不能与它相交\n",
    "所以并不能多出一组match \n",
    "可match现在的这组interval \n",
    "'''\n",
    "def check(intervals):\n",
    "    smallest=None \n",
    "    smallest_e=None\n",
    "    cur_l,cur_r=float('-inf'),float('inf')\n",
    "    for i,(l,r) in enumerate(intervals):\n",
    "        cur_l=max(cur_l,l)\n",
    "        cur_r=min(cur_r,r)\n",
    "        if r<smallest_e: \n",
    "            smallest=i \n",
    "            smallest_e=r\n",
    "    if cur_r<cur_l: return smallest\n",
    "    else: return -1 \n",
    "def solve(N,P,R,Q):\n",
    "    ranges=[[(math.ceil(q/1.1/R[i]),math.floor(q/0.9/R[i])) for q in Q[i]] for i in range(N)]\n",
    "    ranges=[r.sort() for r in ranges]\n",
    "    cur=[0]*N\n",
    "    cnt=0\n",
    "    while max(cur)<P:\n",
    "        #return -1 if can match, else return index of the smallest interval \n",
    "        ret=check([ranges[i][cur[i]] for i in range(N)])\n",
    "        if ret==-1: \n",
    "            cur=[p+1 for p in cur]\n",
    "            cnt+=1 \n",
    "        else:\n",
    "            cur[ret]+=1 \n",
    "    return cnt\n",
    "        \n",
    "# N ingredients, P packages for each ingredients\n",
    "N,P=tuple(map(int,input().split()))\n",
    "R=list(map(int,input().split())) #one serving of ratatouille\n",
    "# Q[i][j]= quantity of ith ingredient's j'th package \n",
    "Q=[list(map(int,input().split())) for _ in range(P)]\n",
    "print (solve(N,P,R,Q)) \n",
    "    "
   ]
  },
  {
   "cell_type": "code",
   "execution_count": 11,
   "metadata": {},
   "outputs": [
    {
     "data": {
      "text/plain": [
       "[1, 2, 2, 3, 4]"
      ]
     },
     "execution_count": 11,
     "metadata": {},
     "output_type": "execute_result"
    }
   ],
   "source": [
    "heap=[(3,4),(3,5),(2,4),(1,5)]\n",
    "max(heap)\n",
    "import heapq\n",
    "heapq.heapify(heap)\n",
    "heapq.nlargest(5,heap,key=lambda x: -x)"
   ]
  },
  {
   "cell_type": "code",
   "execution_count": 17,
   "metadata": {},
   "outputs": [
    {
     "ename": "TypeError",
     "evalue": "'str' object does not support item assignment",
     "output_type": "error",
     "traceback": [
      "\u001b[0;31m---------------------------------------------------------------------------\u001b[0m",
      "\u001b[0;31mTypeError\u001b[0m                                 Traceback (most recent call last)",
      "\u001b[0;32m<ipython-input-17-6c498c57c624>\u001b[0m in \u001b[0;36m<module>\u001b[0;34m()\u001b[0m\n\u001b[1;32m      1\u001b[0m \u001b[0ma\u001b[0m\u001b[0;34m=\u001b[0m\u001b[0;34m'asdfa'\u001b[0m\u001b[0;34m\u001b[0m\u001b[0m\n\u001b[0;32m----> 2\u001b[0;31m \u001b[0ma\u001b[0m\u001b[0;34m[\u001b[0m\u001b[0;36m2\u001b[0m\u001b[0;34m]\u001b[0m\u001b[0;34m=\u001b[0m\u001b[0;34m'z'\u001b[0m\u001b[0;34m\u001b[0m\u001b[0m\n\u001b[0m",
      "\u001b[0;31mTypeError\u001b[0m: 'str' object does not support item assignment"
     ]
    }
   ],
   "source": [
    "a='asdfa'\n",
    "a[2]='z'"
   ]
  },
  {
   "cell_type": "code",
   "execution_count": 16,
   "metadata": {},
   "outputs": [
    {
     "data": {
      "text/plain": [
       "Counter({'a': 3, 'b': 1, 'd': 4, 'e': 1, 'f': 3, 's': 1})"
      ]
     },
     "execution_count": 16,
     "metadata": {},
     "output_type": "execute_result"
    }
   ],
   "source": [
    "import collections\n",
    "collections.Counter('abdddeffaasdf')"
   ]
  },
  {
   "cell_type": "code",
   "execution_count": 13,
   "metadata": {
    "scrolled": true
   },
   "outputs": [],
   "source": [
    "a,b,c=0.7,0.8,0.9\n",
    "#probabiliyt at least 2 works\n",
    "[*incoming_dict[node] for node in cur_level]"
   ]
  },
  {
   "cell_type": "code",
   "execution_count": 14,
   "metadata": {},
   "outputs": [
    {
     "data": {
      "text/plain": [
       "0.902"
      ]
     },
     "execution_count": 14,
     "metadata": {},
     "output_type": "execute_result"
    }
   ],
   "source": [
    "# p(2 works, 3 works)\n",
    "a*b*(1-c)+a*(1-b)*c+(1-a)*b*c+a*b*c"
   ]
  },
  {
   "cell_type": "code",
   "execution_count": null,
   "metadata": {
    "collapsed": true
   },
   "outputs": [],
   "source": [
    "# 1- p(fail 2, fail 3)\n"
   ]
  },
  {
   "cell_type": "code",
   "execution_count": 18,
   "metadata": {
    "collapsed": true
   },
   "outputs": [],
   "source": [
    "import heapq\n",
    "H=[2,3,5,1,4,2,0]\n",
    "heapq._heapify_max(H)\n"
   ]
  },
  {
   "cell_type": "code",
   "execution_count": 39,
   "metadata": {},
   "outputs": [
    {
     "name": "stdout",
     "output_type": "stream",
     "text": [
      "1 2\n"
     ]
    }
   ],
   "source": [
    "a=map(int,input().split())"
   ]
  },
  {
   "cell_type": "code",
   "execution_count": 42,
   "metadata": {},
   "outputs": [
    {
     "data": {
      "text/plain": [
       "5.0"
      ]
     },
     "execution_count": 42,
     "metadata": {},
     "output_type": "execute_result"
    }
   ],
   "source": [
    "math.hypot(3,4)"
   ]
  },
  {
   "cell_type": "code",
   "execution_count": 116,
   "metadata": {},
   "outputs": [],
   "source": [
    "class Vec:\n",
    "    def __init__(self,x,y):\n",
    "        self.x=x\n",
    "        self.y=y\n",
    "    def times(self,r):\n",
    "        return Vec(self.x*r,self.y*r)\n",
    "\n",
    "    def norm(self):\n",
    "        return hypot(self.x,self.y)\n",
    "    def normalize(self):\n",
    "        return Vec(self.x/self.norm(),self.y/self.norm())\n",
    "    def polar_angle(self):\n",
    "        # 从正x轴到vector的角度in radian [0,2*pi) \n",
    "        return fmod(atan2(self.y,self.x)+2*pi,2*pi)\n",
    "\n",
    "    def equal(self,vec):\n",
    "        return self.x==vec.x and self.y==vec.y\n",
    "    def smaller_than(self,vec):\n",
    "        # return True if self is smaller than vec  \n",
    "        if self.x==vec.x: return self.y<vec.y\n",
    "        else: return self.x<vec.x \n",
    "    def add(self,vec):\n",
    "        return Vec(self.x+vec.x,self.y+vec.y)\n",
    "    def sub(self,vec):\n",
    "        return Vec(self.x-vec.x,self.y-vec.y)\n",
    "\n",
    "    def dot(self,vec):\n",
    "        #uvcos(theta)\n",
    "        return self.x*vec.x+self.y*vec.y\n",
    "    def cross(self,vec):\n",
    "        #uvsin(theta)\n",
    "        #平行四边形面积，取绝对值\n",
    "        # theta= 从u ->v ccw rotate\n",
    "        # if >0, vec is within 180 degree ccw \n",
    "        return self.x*vec.y-self.y*vec.x\n",
    "    def project(self,vec):\n",
    "        # project self onto vec \n",
    "        r=vec.normalize()\n",
    "        return r.times(r.dot(self))\n",
    "    def ccw(self,vec):\n",
    "        #if vec is at ccw direction or not \n",
    "        return self.cross(vec)\n",
    "    def show(self):\n",
    "        print (self.x,self.y)\n",
    "    def find_angle(self,vec):\n",
    "        # return ccw angle self to vec \n",
    "        return acos(self.cross(vec)/self.norm()/vec.norm())\n",
    "def ccw(a,b,c):\n",
    "    # connecting a,b,c in sequence, return whether turn left \n",
    "    #if positive, turn left, if 0, straight or reverse , if neg, turn right\n",
    "    return (b.sub(a)).cross(c.sub(b))\n",
    "def line_intersection(a,b,c,d):\n",
    "    # return intersection point of (a,b) and (c,d)\n",
    "    # if paralell  return None\n",
    "    x=None\n",
    "    det=(b.sub(a)).cross(d.sub(c))\n",
    "    if fabs(det)>EPS: \n",
    "        p=(c.sub(a)).cross(d.sub(c))/det\n",
    "        x=a.add((b.sub(a)).times(p))\n",
    "    return x\n",
    "def cut_polygon(polygon,a,b):\n",
    "    # use line a,b clip polygon, return left side polygon \n",
    "    N=len(polygon)\n",
    "    ret=[]\n",
    "    inside=[ccw(a,b,p)>=0 for p in polygon] #whether p is on the left of a,b \n",
    "    for i in range(N):\n",
    "        j=(i+1)%N\n",
    "        if inside[i]: ret.append(polygon[i])\n",
    "        if inside[i]!=inside[j]: #if intersect, include the intersection point \n",
    "            intersect=line_intersection(polygon[i],polygon[j],a,b)\n",
    "            assert intersect is not None\n",
    "            ret.append(intersect)\n",
    "    return ret \n",
    "\n",
    "def sutherland_hodgman(clip_p,subject_p):\n",
    "    # use convex polygon clip_p to clip polygon subject_p\n",
    "    # return a polygon \n",
    "    N=len(clip_p)\n",
    "    ret=subject_p[:]\n",
    "    for i in range(N):\n",
    "        j=(i+1)%N\n",
    "        ret= cut_polygon(ret,clip_p[i],clip_p[j])\n",
    "    return ret "
   ]
  },
  {
   "cell_type": "code",
   "execution_count": 138,
   "metadata": {},
   "outputs": [],
   "source": [
    "def hulls(Points):\n",
    "    '''Graham scan to find upper and lower convex hulls of a set of 2d points.'''\n",
    "    U = []\n",
    "    L = []\n",
    "    Points.sort(key=lambda p: (p.x,p.y))\n",
    "    for p in Points:\n",
    "        while len(U) > 1 and ccw(U[-2],U[-1],p) >= 0: U.pop()\n",
    "        while len(L) > 1 and ccw(L[-2],L[-1],p) <= 0: L.pop()\n",
    "        U.append(p)\n",
    "        L.append(p)\n",
    "    return U,L\n",
    "def rotatingCalipers(Points):\n",
    "    '''Given a list of 2d points, finds all ways of sandwiching the points between\n",
    "two parallel lines that touch one point each, and yields the sequence of pairs of\n",
    "points touched by each pair of lines.'''\n",
    "    U,L = hulls(Points)\n",
    "    i = 0\n",
    "    j = len(L) - 1\n",
    "    while i < len(U) - 1 or j > 0:\n",
    "        yield U[i],L[j]\n",
    "        \n",
    "        # if all the way through one of top or bottom, advance the other\n",
    "        if i == len(U) - 1: j -= 1\n",
    "        elif j == 0: i += 1\n",
    "        \n",
    "        # still points left on both lists, compare slopes of next hull edges\n",
    "        elif (U[i+1].y-U[i].y)*(L[j].x-L[j-1].x) > \\\n",
    "                (L[j].y-L[j-1].y)*(U[i+1].x-U[i].x):\n",
    "            i += 1\n",
    "        else: j -= 1"
   ]
  },
  {
   "cell_type": "code",
   "execution_count": 139,
   "metadata": {
    "scrolled": true
   },
   "outputs": [],
   "source": [
    "points=[(0,0),(1,1),(0,1),(1,0),(1,3),(3,1),(2,2)]\n",
    "points=[Vec(a,b) for a, b in points]"
   ]
  },
  {
   "cell_type": "code",
   "execution_count": 148,
   "metadata": {},
   "outputs": [],
   "source": [
    "def diameter(Points):\n",
    "    '''Given a list of 2d points, returns the pair that's farthest apart.'''\n",
    "    bestPair = None\n",
    "    bestDist = 0\n",
    "    def square(x): return x*x\n",
    "    for p,q in rotatingCalipers(Points):\n",
    "        dist = (p.sub(q)).norm()\n",
    "        if dist > bestDist:\n",
    "            bestDist = dist\n",
    "            bestPair = (p,q)\n",
    "    return bestPair,bestDist"
   ]
  },
  {
   "cell_type": "code",
   "execution_count": 150,
   "metadata": {},
   "outputs": [],
   "source": [
    "class Vec:\n",
    "    def __init__(self,x,y):\n",
    "        self.x=x\n",
    "        self.y=y\n",
    "    def times(self,r):\n",
    "        return Vec(self.x*r,self.y*r)\n",
    "\n",
    "    def norm(self):\n",
    "        return hypot(self.x,self.y)\n",
    "    def normalize(self):\n",
    "        return Vec(self.x/self.norm(),self.y/self.norm())\n",
    "    def polar_angle(self):\n",
    "        # 从正x轴到vector的角度in radian [0,2*pi) \n",
    "        return fmod(atan2(self.y,self.x)+2*pi,2*pi)\n",
    "\n",
    "    def equal(self,vec):\n",
    "        return self.x==vec.x and self.y==vec.y\n",
    "    def smaller_than(self,vec):\n",
    "        # return True if self is smaller than vec  \n",
    "        if self.x==vec.x: return self.y<vec.y\n",
    "        else: return self.x<vec.x \n",
    "    def add(self,vec):\n",
    "        return Vec(self.x+vec.x,self.y+vec.y)\n",
    "    def sub(self,vec):\n",
    "        return Vec(self.x-vec.x,self.y-vec.y)\n",
    "\n",
    "    def dot(self,vec):\n",
    "        #uvcos(theta)\n",
    "        return self.x*vec.x+self.y*vec.y\n",
    "    def cross(self,vec):\n",
    "        #uvsin(theta)\n",
    "        #平行四边形面积，取绝对值\n",
    "        # theta= 从u ->v ccw rotate\n",
    "        # if >0, vec is within 180 degree ccw \n",
    "        return self.x*vec.y-self.y*vec.x\n",
    "    def project(self,vec):\n",
    "        # project self onto vec \n",
    "        r=vec.normalize()\n",
    "        return r.times(r.dot(self))\n",
    "    def ccw(self,vec):\n",
    "        #if vec is at ccw direction or not \n",
    "        return self.cross(vec)\n",
    "    def show(self):\n",
    "        print (self.x,self.y)\n",
    "    def find_angle(self,vec):\n",
    "        # return ccw angle self to vec \n",
    "        return acos(self.cross(vec)/self.norm()/vec.norm())"
   ]
  },
  {
   "cell_type": "code",
   "execution_count": 153,
   "metadata": {
    "collapsed": true
   },
   "outputs": [],
   "source": [
    "a=Vec(0,0)"
   ]
  },
  {
   "cell_type": "code",
   "execution_count": 154,
   "metadata": {
    "collapsed": true
   },
   "outputs": [],
   "source": [
    "points=[(1,0),(1,1),(0,1),(-1,1),(-1,0),(-1,-1),(0,-1),(1,-1)]\n",
    "points=[Vec(a,b) for a,b in points]"
   ]
  },
  {
   "cell_type": "code",
   "execution_count": 160,
   "metadata": {
    "collapsed": true
   },
   "outputs": [],
   "source": [
    "from math import *"
   ]
  },
  {
   "cell_type": "code",
   "execution_count": 185,
   "metadata": {
    "scrolled": true
   },
   "outputs": [
    {
     "data": {
      "text/plain": [
       "'21'"
      ]
     },
     "execution_count": 185,
     "metadata": {},
     "output_type": "execute_result"
    }
   ],
   "source": [
    "N=10\n",
    "str(N)[:5//2][::-1]"
   ]
  },
  {
   "cell_type": "code",
   "execution_count": null,
   "metadata": {
    "collapsed": true
   },
   "outputs": [],
   "source": [
    "564761466.4888889"
   ]
  },
  {
   "cell_type": "code",
   "execution_count": 208,
   "metadata": {
    "collapsed": true
   },
   "outputs": [],
   "source": [
    "N=10\n",
    "hikers=['112 1 819815032',\n",
    "'164 1 520081207',\n",
    "'69 1 308813271',\n",
    "'113 1 574445131',\n",
    "'112 1 205072306',\n",
    "'86 1 23974921',\n",
    "'273 1 812843674',\n",
    "'23 1 455233309',\n",
    "'299 1 29269899',\n",
    "'203 1 149483387']\n",
    "hikers=[tuple(map(int,i.split())) for i in hikers]"
   ]
  },
  {
   "cell_type": "code",
   "execution_count": 222,
   "metadata": {
    "collapsed": true
   },
   "outputs": [],
   "source": [
    "eps=0.000001\n",
    "def cnt_encounter(d,m,T):\n",
    "    dist=360*T/m\n",
    "    if dist<(360-d): return 0 \n",
    "    dist-=(360-d)\n",
    "    return 1+dist//360\n",
    "\n",
    "def calc(T,hikers):\n",
    "    total=[]\n",
    "    for d,h,m in hikers:\n",
    "        total+=[cnt_encounter(d,m+i,T) for i in range(h)]\n",
    "    print (T,total)\n",
    "    return sum(total)\n",
    "\n",
    "\n",
    "def solve(N,hikers):\n",
    "    # d,h,m \n",
    "    # min speed-time to not be caught up by each hiker\n",
    "    caughtup=[]\n",
    "    # min speed-time to catch each hiker\n",
    "    catch=[]\n",
    "\n",
    "    for d,h,m in hikers:\n",
    "        catch+=[(m+i)*(360-d)/360 for i in range(h)]\n",
    "    catch.sort(reverse=True)\n",
    "    print (catch)\n",
    "    ret=N\n",
    "    A=0 #number of hikers to catch\n",
    "    T=float('inf')\n",
    "    while A<N:\n",
    "        T=catch[A]+eps\n",
    "        B=calc(T,hikers) #赶上来的人数\n",
    "        print (A,B)\n",
    "        ret=min(ret,A+B)\n",
    "        if ret==0: return 0 \n",
    "        A+=1 \n",
    "\n",
    "    return ret   "
   ]
  },
  {
   "cell_type": "code",
   "execution_count": 223,
   "metadata": {},
   "outputs": [
    {
     "name": "stdout",
     "output_type": "stream",
     "text": [
      "[564761466.4888889, 426148958.7027778, 394133187.1027778, 283155323.8111111, 249624060.725, 196437221.21666667, 141272033.02222222, 65191365.99722222, 18247578.76111111, 4959621.775]\n",
      "564761466.4888898 [1.0, 1.0, 2.0, 1.0, 3.0, 23.0, 1.0, 1.0, 20.0, 4.0]\n",
      "0 57.0\n",
      "426148958.7027788 [0, 1.0, 1.0, 1.0, 2.0, 18.0, 1.0, 1.0, 15.0, 3.0]\n",
      "1 43.0\n",
      "394133187.1027788 [0, 1.0, 1.0, 1.0, 2.0, 16.0, 1.0, 0, 14.0, 3.0]\n",
      "2 39.0\n",
      "283155323.8111121 [0, 1.0, 1.0, 0, 1.0, 12.0, 1.0, 0, 10.0, 2.0]\n",
      "3 28.0\n",
      "249624060.725001 [0, 0, 1.0, 0, 1.0, 10.0, 1.0, 0, 9.0, 2.0]\n",
      "4 24.0\n",
      "196437221.21666768 [0, 0, 0, 0, 1.0, 8.0, 1.0, 0, 7.0, 1.0]\n",
      "5 18.0\n",
      "141272033.02222323 [0, 0, 0, 0, 1.0, 6.0, 0, 0, 5.0, 1.0]\n",
      "6 13.0\n",
      "65191365.99722322 [0, 0, 0, 0, 0, 2.0, 0, 0, 3.0, 1.0]\n",
      "7 6.0\n",
      "18247578.76111211 [0, 0, 0, 0, 0, 1.0, 0, 0, 1.0, 0]\n",
      "8 2.0\n",
      "4959621.775001001 [0, 0, 0, 0, 0, 0, 0, 0, 1.0, 0]\n",
      "9 1.0\n"
     ]
    },
    {
     "data": {
      "text/plain": [
       "10"
      ]
     },
     "execution_count": 223,
     "metadata": {},
     "output_type": "execute_result"
    }
   ],
   "source": [
    "solve(N,hikers)"
   ]
  },
  {
   "cell_type": "code",
   "execution_count": 204,
   "metadata": {
    "scrolled": true
   },
   "outputs": [
    {
     "data": {
      "text/plain": [
       "1"
      ]
     },
     "execution_count": 204,
     "metadata": {},
     "output_type": "execute_result"
    }
   ],
   "source": [
    "a[-3]"
   ]
  },
  {
   "cell_type": "code",
   "execution_count": 199,
   "metadata": {},
   "outputs": [
    {
     "name": "stdout",
     "output_type": "stream",
     "text": [
      "2 3 6\n",
      "4 1 2\n",
      "3 3 8\n",
      "5 2 0\n",
      "7\n",
      "0\n",
      "9\n",
      "0\n"
     ]
    }
   ],
   "source": [
    "for r,c,n in [map(int,input().split()) for _ in range(4)]:\n",
    "    print (solve(r,c,n))"
   ]
  },
  {
   "cell_type": "code",
   "execution_count": 167,
   "metadata": {},
   "outputs": [
    {
     "name": "stdout",
     "output_type": "stream",
     "text": [
      "26 97\n"
     ]
    }
   ],
   "source": [
    "M=97\n",
    "def calc_99(M):\n",
    "    assert M<100:\n",
    "    cnt=calc(9)\n",
    "    if M%10==0: \n",
    "        switch_point=10+(M//10-1)\n",
    "        cnt+=(switch_pint-9)+1\n",
    "        cnt+=(M-10*(M//10-1)+1)\n",
    "    else:\n",
    "        switch_point=(10+M//10)\n",
    "        cnt+=switch_point-9+1\n",
    "        cnt+=(M-(10*(M//10))+1)\n",
    "        \n",
    "        \n",
    "if 100<=M<1000:\n",
    "    cnt=calc_99(99)\n",
    "    if M%10==0:\n",
    "        switch_point=(100+(M//100-1))\n",
    "        cnt+=(switch_point-99)+1\n",
    "        cur=100*(M//100-1)+1\n",
    "        cnt+=(M-cur)\n",
    "        cur=M\n",
    "    else:\n",
    "        switch_point=100+M//100\n",
    "        cnt+=(switch_point-99)+1\n",
    "        cur=100*(M//100)+1\n",
    "        cnt+=(M-cur)\n",
    "        cur=M \n",
    "if 1000<=M<10000:\n",
    "    \n",
    "print (cnt,cur)"
   ]
  },
  {
   "cell_type": "code",
   "execution_count": null,
   "metadata": {
    "collapsed": true
   },
   "outputs": [],
   "source": []
  },
  {
   "cell_type": "code",
   "execution_count": 124,
   "metadata": {},
   "outputs": [],
   "source": [
    "def polygon_area(points):\n",
    "    # points are ccw sorted \n",
    "    ret=0\n",
    "    for i in range(len(points)):\n",
    "        j=(i+1)%len(points)\n",
    "        ret+=points[i].cross(points[j])\n",
    "    return fabs(ret)/2.0"
   ]
  },
  {
   "cell_type": "code",
   "execution_count": 134,
   "metadata": {},
   "outputs": [
    {
     "data": {
      "text/plain": [
       "57.14285714285711"
      ]
     },
     "execution_count": 134,
     "metadata": {},
     "output_type": "execute_result"
    }
   ],
   "source": [
    "polygon_area(clipped_polygon)"
   ]
  },
  {
   "cell_type": "code",
   "execution_count": 49,
   "metadata": {},
   "outputs": [
    {
     "data": {
      "text/plain": [
       "6.708203932499369"
      ]
     },
     "execution_count": 49,
     "metadata": {},
     "output_type": "execute_result"
    }
   ],
   "source": [
    "hypot(6,3)"
   ]
  },
  {
   "cell_type": "code",
   "execution_count": 50,
   "metadata": {
    "collapsed": true
   },
   "outputs": [],
   "source": [
    "r=Vec(6,3).normalize()"
   ]
  },
  {
   "cell_type": "code",
   "execution_count": 54,
   "metadata": {},
   "outputs": [
    {
     "name": "stdout",
     "output_type": "stream",
     "text": [
      "4.0 2.0\n"
     ]
    }
   ],
   "source": [
    "print (R.x,R.y)"
   ]
  },
  {
   "cell_type": "code",
   "execution_count": 53,
   "metadata": {},
   "outputs": [],
   "source": [
    "R=r.times(r.dot(V))"
   ]
  },
  {
   "cell_type": "code",
   "execution_count": null,
   "metadata": {
    "collapsed": true
   },
   "outputs": [],
   "source": []
  }
 ],
 "metadata": {
  "kernelspec": {
   "display_name": "Python 3",
   "language": "python",
   "name": "python3"
  },
  "language_info": {
   "codemirror_mode": {
    "name": "ipython",
    "version": 3
   },
   "file_extension": ".py",
   "mimetype": "text/x-python",
   "name": "python",
   "nbconvert_exporter": "python",
   "pygments_lexer": "ipython3",
   "version": "3.6.3"
  }
 },
 "nbformat": 4,
 "nbformat_minor": 2
}
