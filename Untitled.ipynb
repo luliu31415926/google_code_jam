{
 "cells": [
  {
   "cell_type": "code",
   "execution_count": 49,
   "metadata": {},
   "outputs": [],
   "source": [
    "graph={'a': [1],\n",
    " 'b': [1, 2],\n",
    " 'c': [1, 2],\n",
    " 'd': [2, 3, 4],\n",
    " 'e': [3, 4]}"
   ]
  },
  {
   "cell_type": "code",
   "execution_count": 79,
   "metadata": {},
   "outputs": [],
   "source": [
    "# Hopcroft-Karp bipartite max-cardinality matching and max independent set\n",
    "# David Eppstein, UC Irvine, 27 Apr 2002\n",
    "\n",
    "def bipartiteMatch(graph):\n",
    "    '''Find maximum cardinality matching of a bipartite graph (U,V,E).\n",
    "    The input format is a dictionary mapping members of U to a list\n",
    "    of their neighbors in V.  The output is a triple (M,A,B) where M is a\n",
    "    dictionary mapping members of V to their matches in U, A is the part\n",
    "    of the maximum independent set in U, and B is the part of the maximum \n",
    "    independent set in V.\n",
    "    The same object may occur in both U and V, and is treated as two\n",
    "    distinct vertices if this happens.'''\n",
    "    \n",
    "    # initialize greedy matching (redundant, but faster than full search)\n",
    "    matching = {}\n",
    "    for u in graph:\n",
    "        for v in graph[u]:\n",
    "            if v not in matching:\n",
    "                matching[v] = u\n",
    "                break\n",
    "    print (matching)\n",
    "    while 1:\n",
    "        # structure residual graph into layers\n",
    "        # pred[u] gives the neighbor in the previous layer for u in U\n",
    "        # preds[v] gives a list of neighbors in the previous layer for v in V\n",
    "        # unmatched gives a list of unmatched vertices in final layer of V,\n",
    "        # and is also used as a flag value for pred[u] when u is in the first layer\n",
    "        preds = {}\n",
    "        unmatched = []\n",
    "        pred = dict([(u,unmatched) for u in graph])\n",
    "        for v in matching:\n",
    "            del pred[matching[v]]\n",
    "        layer = list(pred)\n",
    "        \n",
    "        # repeatedly extend layering structure by another pair of layers\n",
    "        while layer and not unmatched:\n",
    "            newLayer = {}\n",
    "            for u in layer:\n",
    "                for v in graph[u]:\n",
    "                    if v not in preds:\n",
    "                        newLayer.setdefault(v,[]).append(u)\n",
    "            layer = []\n",
    "            for v in newLayer:\n",
    "                preds[v] = newLayer[v]\n",
    "                if v in matching:\n",
    "                    layer.append(matching[v])\n",
    "                    pred[matching[v]] = v\n",
    "                else:\n",
    "                    unmatched.append(v)\n",
    "        \n",
    "        # did we finish layering without finding any alternating paths?\n",
    "        if not unmatched:\n",
    "            unlayered = set()\n",
    "            for u in graph:\n",
    "                for v in graph[u]:\n",
    "                    if v not in preds:\n",
    "                        unlayered.add(v)\n",
    "            return matching\n",
    " \n",
    "        # recursively search backward through layers to find alternating paths\n",
    "        # recursion returns true if found path, false otherwise\n",
    "        def recurse(v):\n",
    "            if v in preds:\n",
    "                L = preds[v]\n",
    "                del preds[v]\n",
    "                for u in L:\n",
    "                    if u in pred:\n",
    "                        pu = pred[u]\n",
    "                        del pred[u]\n",
    "                        if pu is unmatched or recurse(pu):\n",
    "                            matching[v] = u\n",
    "                            return 1\n",
    "            return 0\n",
    "\n",
    "        for v in unmatched: recurse(v)\n",
    "\n"
   ]
  },
  {
   "cell_type": "code",
   "execution_count": 80,
   "metadata": {},
   "outputs": [
    {
     "name": "stdout",
     "output_type": "stream",
     "text": [
      "{1: 'a', 2: 'b', 3: 'c'}\n"
     ]
    },
    {
     "data": {
      "text/plain": [
       "{1: 'a', 2: 'b', 3: 'd', 4: 'c'}"
      ]
     },
     "execution_count": 80,
     "metadata": {},
     "output_type": "execute_result"
    }
   ],
   "source": [
    "bipartiteMatch(graph3)"
   ]
  },
  {
   "cell_type": "code",
   "execution_count": 75,
   "metadata": {},
   "outputs": [],
   "source": [
    "graph3={'a': [1,2, 3], 'b': [2], 'c': [1,3,4,5,6], 'd': [3]}"
   ]
  },
  {
   "cell_type": "code",
   "execution_count": 85,
   "metadata": {},
   "outputs": [],
   "source": [
    "a=int('1001',2)"
   ]
  },
  {
   "cell_type": "code",
   "execution_count": 88,
   "metadata": {},
   "outputs": [
    {
     "data": {
      "text/plain": [
       "'0b110'"
      ]
     },
     "execution_count": 88,
     "metadata": {},
     "output_type": "execute_result"
    }
   ],
   "source": [
    "bin(a^int('1111',2))"
   ]
  },
  {
   "cell_type": "code",
   "execution_count": 92,
   "metadata": {},
   "outputs": [
    {
     "ename": "SyntaxError",
     "evalue": "invalid syntax (<ipython-input-92-216232d674b9>, line 2)",
     "output_type": "error",
     "traceback": [
      "\u001b[0;36m  File \u001b[0;32m\"<ipython-input-92-216232d674b9>\"\u001b[0;36m, line \u001b[0;32m2\u001b[0m\n\u001b[0;31m    mask^=(int('111111'[:4],2)) if 3>2\u001b[0m\n\u001b[0m                                      ^\u001b[0m\n\u001b[0;31mSyntaxError\u001b[0m\u001b[0;31m:\u001b[0m invalid syntax\n"
     ]
    }
   ],
   "source": [
    "mask=int('111111',2)\n",
    "mask^=(int('111111'[:4],2) if 3>2\n"
   ]
  },
  {
   "cell_type": "code",
   "execution_count": null,
   "metadata": {
    "collapsed": true
   },
   "outputs": [],
   "source": []
  }
 ],
 "metadata": {
  "kernelspec": {
   "display_name": "Python 3",
   "language": "python",
   "name": "python3"
  },
  "language_info": {
   "codemirror_mode": {
    "name": "ipython",
    "version": 3
   },
   "file_extension": ".py",
   "mimetype": "text/x-python",
   "name": "python",
   "nbconvert_exporter": "python",
   "pygments_lexer": "ipython3",
   "version": "3.6.3"
  }
 },
 "nbformat": 4,
 "nbformat_minor": 2
}
